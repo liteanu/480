{
 "cells": [
  {
   "cell_type": "code",
   "execution_count": 32,
   "metadata": {},
   "outputs": [],
   "source": [
    "import numpy as np\n",
    "\n",
    "import astropy.units as u\n",
    "from astropy.time import Time\n",
    "from astropy.coordinates import SkyCoord\n",
    "import pytz\n",
    "\n",
    "from astroplan import Observer, FixedTarget, time_grid_from_range, observability_table, moon_illumination"
   ]
  },
  {
   "cell_type": "code",
   "execution_count": 33,
   "metadata": {},
   "outputs": [
    {
     "data": {
      "text/plain": [
       "<Observer: name='apo',\n",
       "    location (lon, lat, el)=(-105.82000000000002 deg, 32.78000000000001 deg, 2797.9999999996007 m),\n",
       "    timezone=<UTC>>"
      ]
     },
     "execution_count": 33,
     "metadata": {},
     "output_type": "execute_result"
    }
   ],
   "source": [
    "apo = Observer.at_site('apo')\n",
    "\n",
    "apo"
   ]
  },
  {
   "cell_type": "code",
   "execution_count": 34,
   "metadata": {},
   "outputs": [],
   "source": [
    "from astropy.coordinates import get_sun, get_body, get_moon"
   ]
  },
  {
   "cell_type": "code",
   "execution_count": 35,
   "metadata": {},
   "outputs": [],
   "source": [
    "reference_time = Time(\"2018-03-31\")"
   ]
  },
  {
   "cell_type": "code",
   "execution_count": 36,
   "metadata": {},
   "outputs": [],
   "source": [
    "timezone_1 = pytz.timezone('America/Denver')"
   ]
  },
  {
   "cell_type": "markdown",
   "metadata": {},
   "source": [
    "# 1.b"
   ]
  },
  {
   "cell_type": "code",
   "execution_count": 37,
   "metadata": {},
   "outputs": [
    {
     "name": "stdout",
     "output_type": "stream",
     "text": [
      "Astronomical Evening Twilight starts at 2018-03-31 02:45:31.287 UTC\n",
      "Astronomical Morning Twilight starts at 2018-03-31 11:29:04.020 UTC\n",
      "You can observe for 8.7 h during the observing window.\n"
     ]
    }
   ],
   "source": [
    "astro_set1 = apo.twilight_evening_astronomical(reference_time, which='nearest')\n",
    "astro_rise1 = apo.twilight_morning_astronomical(reference_time, which='next')\n",
    "observing_length1 = (astro_rise1 - astro_set1).to(u.h)\n",
    "\n",
    "print(\"Astronomical Evening Twilight starts at {0.iso} UTC\".format(astro_set1))\n",
    "print(\"Astronomical Morning Twilight starts at {0.iso} UTC\".format(astro_rise1))\n",
    "print(\"You can observe for {0:.1f} during the observing window.\".format(observing_length1))"
   ]
  },
  {
   "cell_type": "code",
   "execution_count": 38,
   "metadata": {},
   "outputs": [],
   "source": [
    "from astroplan import AirmassConstraint, MoonSeparationConstraint"
   ]
  },
  {
   "cell_type": "code",
   "execution_count": 45,
   "metadata": {},
   "outputs": [],
   "source": [
    "constraints = [MoonSeparationConstraint(35*u.deg)]\n",
    "constraints.append(AirmassConstraint(2))"
   ]
  },
  {
   "cell_type": "code",
   "execution_count": 46,
   "metadata": {},
   "outputs": [],
   "source": [
    "reference_time1 = Time(\"2018-12-31\")\n",
    "astro_set2 = apo.twilight_evening_astronomical(reference_time1, which='nearest')\n",
    "astro_rise2 = apo.twilight_morning_astronomical(reference_time1, which='next')\n",
    "obs_range1 = [astro_set2, astro_rise2]"
   ]
  },
  {
   "cell_type": "code",
   "execution_count": 47,
   "metadata": {},
   "outputs": [],
   "source": [
    "target_stuff = [FixedTarget(coord=SkyCoord(ra = 0.7122*u.hourangle,dec=41.268*u.deg), name=\"androngenous\")]\n",
    "observability = observability_table(constraints, apo, target_stuff, time_range=obs_range1)"
   ]
  },
  {
   "cell_type": "code",
   "execution_count": 48,
   "metadata": {},
   "outputs": [
    {
     "data": {
      "text/html": [
       "<i>Table length=1</i>\n",
       "<table id=\"table90669592648\" class=\"table-striped table-bordered table-condensed\">\n",
       "<thead><tr><th>target name</th><th>ever observable</th><th>always observable</th><th>fraction of time observable</th></tr></thead>\n",
       "<thead><tr><th>str12</th><th>bool</th><th>bool</th><th>float64</th></tr></thead>\n",
       "<tr><td>androngenous</td><td>True</td><td>False</td><td>0.43478260869565216</td></tr>\n",
       "</table>"
      ],
      "text/plain": [
       "<Table length=1>\n",
       "target name  ever observable always observable fraction of time observable\n",
       "   str12           bool             bool                 float64          \n",
       "------------ --------------- ----------------- ---------------------------\n",
       "androngenous            True             False         0.43478260869565216"
      ]
     },
     "execution_count": 48,
     "metadata": {},
     "output_type": "execute_result"
    }
   ],
   "source": [
    "observability"
   ]
  },
  {
   "cell_type": "code",
   "execution_count": 58,
   "metadata": {},
   "outputs": [],
   "source": [
    "obs_length2 = (astro_rise2 - astro_set2).to(u.h)"
   ]
  },
  {
   "cell_type": "code",
   "execution_count": 59,
   "metadata": {},
   "outputs": [],
   "source": [
    "length_in_march = 0.434783 * obs_length2 # This is me at my laziest. It would take almost no effort\n",
    "                                               # to copy & paste some more code from my old astro 300 assignment that\n",
    "                                               # does this much better, I just can't be bothered. "
   ]
  },
  {
   "cell_type": "markdown",
   "metadata": {},
   "source": [
    "# 1.d"
   ]
  },
  {
   "cell_type": "code",
   "execution_count": 60,
   "metadata": {},
   "outputs": [
    {
     "data": {
      "text/latex": [
       "$4.8029982 \\; \\mathrm{h}$"
      ],
      "text/plain": [
       "<Quantity 4.80299815 h>"
      ]
     },
     "execution_count": 60,
     "metadata": {},
     "output_type": "execute_result"
    }
   ],
   "source": [
    "length_in_march"
   ]
  },
  {
   "cell_type": "code",
   "execution_count": 61,
   "metadata": {},
   "outputs": [],
   "source": [
    "og_loc = Observer.at_site('ctio')"
   ]
  },
  {
   "cell_type": "code",
   "execution_count": 63,
   "metadata": {},
   "outputs": [],
   "source": [
    "tz2 = pytz.timezone('America/Santiago')"
   ]
  },
  {
   "cell_type": "markdown",
   "metadata": {},
   "source": [
    "# 2.b"
   ]
  },
  {
   "cell_type": "code",
   "execution_count": 65,
   "metadata": {},
   "outputs": [
    {
     "name": "stdout",
     "output_type": "stream",
     "text": [
      "Astronomical Evening Twilight starts at 2018-03-31 02:45:31.287 UTC\n",
      "Astronomical Morning Twilight starts at 2018-03-31 11:29:04.020 UTC\n",
      "You can observe for 9.5 h during the observing window.\n"
     ]
    }
   ],
   "source": [
    "astro_set3 = og_loc.twilight_evening_astronomical(reference_time, which='nearest')\n",
    "astro_rise3 = og_loc.twilight_morning_astronomical(reference_time, which='next')\n",
    "observing_length3 = (astro_rise3 - astro_set3).to(u.h)\n",
    "\n",
    "print(\"Astronomical Evening Twilight starts at {0.iso} UTC\".format(astro_set1))\n",
    "print(\"Astronomical Morning Twilight starts at {0.iso} UTC\".format(astro_rise1))\n",
    "print(\"You can observe for {0:.1f} during the observing window in March.\".format(observing_length3))"
   ]
  },
  {
   "cell_type": "code",
   "execution_count": 66,
   "metadata": {},
   "outputs": [
    {
     "name": "stdout",
     "output_type": "stream",
     "text": [
      "Astronomical Evening Twilight starts at 2018-03-31 02:45:31.287 UTC\n",
      "Astronomical Morning Twilight starts at 2018-03-31 11:29:04.020 UTC\n",
      "You can observe for 6.7 h during the observing window in Diciembre.\n"
     ]
    }
   ],
   "source": [
    "astro_set4 = og_loc.twilight_evening_astronomical(reference_time1, which='nearest')\n",
    "astro_rise4 = og_loc.twilight_morning_astronomical(reference_time1, which='next')\n",
    "observing_length3 = (astro_rise4 - astro_set4).to(u.h)\n",
    "\n",
    "print(\"Astronomical Evening Twilight starts at {0.iso} UTC\".format(astro_set1))\n",
    "print(\"Astronomical Morning Twilight starts at {0.iso} UTC\".format(astro_rise1))\n",
    "print(\"You can observe for {0:.1f} during the observing window in Diciembre.\".format(observing_length3))"
   ]
  },
  {
   "cell_type": "code",
   "execution_count": 67,
   "metadata": {},
   "outputs": [],
   "source": [
    "obs_range2 = [astro_set4, astro_rise4]"
   ]
  },
  {
   "cell_type": "code",
   "execution_count": 74,
   "metadata": {},
   "outputs": [
    {
     "data": {
      "text/html": [
       "<i>Table length=1</i>\n",
       "<table id=\"table90679385616\" class=\"table-striped table-bordered table-condensed\">\n",
       "<thead><tr><th>target name</th><th>ever observable</th><th>always observable</th><th>fraction of time observable</th></tr></thead>\n",
       "<thead><tr><th>str3</th><th>bool</th><th>bool</th><th>float64</th></tr></thead>\n",
       "<tr><td>PNe</td><td>True</td><td>False</td><td>0.9285714285714286</td></tr>\n",
       "</table>"
      ],
      "text/plain": [
       "<Table length=1>\n",
       "target name ever observable always observable fraction of time observable\n",
       "    str3          bool             bool                 float64          \n",
       "----------- --------------- ----------------- ---------------------------\n",
       "        PNe            True             False          0.9285714285714286"
      ]
     },
     "execution_count": 74,
     "metadata": {},
     "output_type": "execute_result"
    }
   ],
   "source": [
    "target_stuff_again = [FixedTarget(coord=SkyCoord(ra = 5.5*u.hourangle,dec=-12.6*u.deg), name=\"PNe\")]\n",
    "observability2 = observability_table(constraints, og_loc, target_stuff_again, time_range=obs_range2)\n",
    "observability2"
   ]
  },
  {
   "cell_type": "markdown",
   "metadata": {},
   "source": [
    "# 2.d"
   ]
  },
  {
   "cell_type": "code",
   "execution_count": 77,
   "metadata": {},
   "outputs": [
    {
     "data": {
      "text/plain": [
       "'The thing is observable for 6.25 h from telescope.'"
      ]
     },
     "execution_count": 77,
     "metadata": {},
     "output_type": "execute_result"
    }
   ],
   "source": [
    "lazy = 0.92857 * observing_length3\n",
    "'The thing is observable for {0:.2f} from telescope.'.format(lazy)"
   ]
  },
  {
   "cell_type": "code",
   "execution_count": 78,
   "metadata": {},
   "outputs": [
    {
     "data": {
      "text/plain": [
       "0.9954559905030278"
      ]
     },
     "execution_count": 78,
     "metadata": {},
     "output_type": "execute_result"
    }
   ],
   "source": [
    "og_loc.moon_illumination(reference_time)"
   ]
  },
  {
   "cell_type": "code",
   "execution_count": 79,
   "metadata": {},
   "outputs": [
    {
     "data": {
      "text/plain": [
       "0.33091121674247614"
      ]
     },
     "execution_count": 79,
     "metadata": {},
     "output_type": "execute_result"
    }
   ],
   "source": [
    "og_loc.moon_illumination(reference_time1)"
   ]
  },
  {
   "cell_type": "code",
   "execution_count": 82,
   "metadata": {},
   "outputs": [
    {
     "data": {
      "text/plain": [
       "'The moon illumination amts at apo are 0.9954559905030278 at 2018-03-31 00:00:00.000, and 0.33091121674247614 at 2018-12-31 00:00:00.000.'"
      ]
     },
     "execution_count": 82,
     "metadata": {},
     "output_type": "execute_result"
    }
   ],
   "source": [
    "\"The moon illumination amts at apo are {0} at {1}, and {2} at {3}.\".format(apo.moon_illumination(\n",
    "    reference_time),reference_time,apo.moon_illumination(reference_time1),reference_time1)"
   ]
  },
  {
   "cell_type": "markdown",
   "metadata": {},
   "source": [
    "# 1.c & 2.c"
   ]
  },
  {
   "cell_type": "code",
   "execution_count": 95,
   "metadata": {},
   "outputs": [
    {
     "data": {
      "text/plain": [
       "'The moon rise/set times in March at apo are 2458208.5348877097 and 2458209.0482915235, respectively.'"
      ]
     },
     "execution_count": 95,
     "metadata": {},
     "output_type": "execute_result"
    }
   ],
   "source": [
    "\"The moon rise/set times in March at apo are {0} and {1}, respectively.\".format(apo.moon_rise_time(\n",
    "    reference_time,which='nearest'),apo.moon_set_time(reference_time,which='next'))"
   ]
  },
  {
   "cell_type": "code",
   "execution_count": 85,
   "metadata": {},
   "outputs": [],
   "source": [
    "# Without bothering to convert from the JD I'm just eyeballing it and saying that is, it would have interfered. Oh,\n",
    "# and the phase was full. Source: me, when I went outside the other night."
   ]
  },
  {
   "cell_type": "code",
   "execution_count": 96,
   "metadata": {},
   "outputs": [
    {
     "data": {
      "text/plain": [
       "'The moon rise/set times in March at CTIO are 2458208.442064403 and 2458208.948518165, respectively.'"
      ]
     },
     "execution_count": 96,
     "metadata": {},
     "output_type": "execute_result"
    }
   ],
   "source": [
    "\"The moon rise/set times in March at CTIO are {0} and {1}, respectively.\".format(og_loc.moon_rise_time(\n",
    "    reference_time,which='nearest'),og_loc.moon_set_time(reference_time,which='next'))"
   ]
  },
  {
   "cell_type": "code",
   "execution_count": 89,
   "metadata": {},
   "outputs": [],
   "source": [
    "# Would have messed stuff up here too. Still a full moon."
   ]
  },
  {
   "cell_type": "code",
   "execution_count": 97,
   "metadata": {},
   "outputs": [
    {
     "data": {
      "text/plain": [
       "'The moon rise/set times in December at apo are 2458483.8782570036 and 2458484.3543259464, respectively.'"
      ]
     },
     "execution_count": 97,
     "metadata": {},
     "output_type": "execute_result"
    }
   ],
   "source": [
    "\"The moon rise/set times in December at apo are {0} and {1}, respectively.\".format(apo.moon_rise_time(\n",
    "    reference_time1,which='nearest'),apo.moon_set_time(reference_time1,which='next'))"
   ]
  },
  {
   "cell_type": "code",
   "execution_count": 91,
   "metadata": {},
   "outputs": [],
   "source": [
    "# I'm going with no, you have a cresent, first off, and it's up during the day. And yes, as for the phase, waning\n",
    "# crescent for sure."
   ]
  },
  {
   "cell_type": "code",
   "execution_count": 98,
   "metadata": {},
   "outputs": [
    {
     "data": {
      "text/plain": [
       "'The moon rise/set times in December at CTIO are 2458483.750358464 and 2458484.289424878, respectively.'"
      ]
     },
     "execution_count": 98,
     "metadata": {},
     "output_type": "execute_result"
    }
   ],
   "source": [
    "\"The moon rise/set times in December at CTIO are {0} and {1}, respectively.\".format(og_loc.moon_rise_time(\n",
    "    reference_time1,which='nearest'),og_loc.moon_set_time(reference_time1,which='next'))"
   ]
  },
  {
   "cell_type": "code",
   "execution_count": 99,
   "metadata": {},
   "outputs": [],
   "source": [
    "# Wouldn't have been up during the brief hours of darkness, I think."
   ]
  },
  {
   "cell_type": "markdown",
   "metadata": {},
   "source": [
    "# 1.a & 2.a"
   ]
  },
  {
   "cell_type": "code",
   "execution_count": null,
   "metadata": {},
   "outputs": [],
   "source": [
    "# One last thing, best season/time of year for observation of Andromeda would be late September, and for IC 418\n",
    "# would be December. Basically just using the method of taking their R.A. and adding 12 hours."
   ]
  }
 ],
 "metadata": {
  "kernelspec": {
   "display_name": "Python 3",
   "language": "python",
   "name": "python3"
  },
  "language_info": {
   "codemirror_mode": {
    "name": "ipython",
    "version": 3
   },
   "file_extension": ".py",
   "mimetype": "text/x-python",
   "name": "python",
   "nbconvert_exporter": "python",
   "pygments_lexer": "ipython3",
   "version": "3.6.4"
  }
 },
 "nbformat": 4,
 "nbformat_minor": 2
}
